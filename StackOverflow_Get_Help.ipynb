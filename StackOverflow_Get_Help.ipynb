{
 "cells": [
  {
   "cell_type": "markdown",
   "id": "c876bc8d",
   "metadata": {},
   "source": [
    "**DEVELOPMENT OF A FUNCTION FOR SEARCHING INFO ON STACK OVERFLOW**\n",
    "\n",
    "Author: Pablo Legerén Somolinos"
   ]
  },
  {
   "cell_type": "markdown",
   "id": "45e65dd8",
   "metadata": {},
   "source": [
    "Definition of both the packages and the necessary libraries."
   ]
  },
  {
   "cell_type": "code",
   "execution_count": null,
   "id": "5464a8a8",
   "metadata": {},
   "outputs": [],
   "source": [
    "!pip install selenium\n",
    "!pip install --upgrade webdriver_manager"
   ]
  },
  {
   "cell_type": "code",
   "execution_count": 18,
   "id": "43b9b359",
   "metadata": {
    "scrolled": true
   },
   "outputs": [],
   "source": [
    "from bs4 import BeautifulSoup\n",
    "\n",
    "from selenium import webdriver\n",
    "from selenium.webdriver.common.by import By\n",
    "from selenium.webdriver.support import expected_conditions as ec\n",
    "from selenium.webdriver.support.wait import WebDriverWait\n",
    "from selenium.webdriver.chrome.options import Options\n",
    "from selenium.webdriver.chrome.service import Service\n",
    "from selenium.webdriver.common.keys import Keys\n",
    "from webdriver_manager.chrome import ChromeDriverManager\n",
    "\n",
    "import re\n",
    "import pandas as pd\n",
    "import numpy as np\n",
    "import time\n",
    "from time import strftime, gmtime\n",
    "\n",
    "from selenium.common.exceptions import (\n",
    "    ElementNotSelectableException, \n",
    "    ElementNotVisibleException,\n",
    "    NoSuchElementException,\n",
    "    TimeoutException, \n",
    "    WebDriverException, \n",
    "    WebDriverException\n",
    "    )\n",
    "\n",
    "import random\n",
    "import requests\n",
    "\n",
    "negrita = \"\\033[1m\"\n",
    "reset = \"\\033[0m\""
   ]
  },
  {
   "cell_type": "markdown",
   "id": "69517c1d",
   "metadata": {},
   "source": [
    "A first function is defined in which Google is opened, this is done at first thinking that entering from Google would not ask for the Captcha. \n",
    "It is verified that this does not work but it is left like this as the result is the same."
   ]
  },
  {
   "cell_type": "code",
   "execution_count": 20,
   "id": "92fc4a31",
   "metadata": {},
   "outputs": [],
   "source": [
    "def abrir_google():\n",
    "    \n",
    "    search_url = \"https://www.google.com/search?q=google&oq=google&gs_lcrp=EgZjaHJvbWUyBggAEEUYOdIBBzkxOWowajGoAgCwAgA&sourceid=chrome&ie=UTF-8\"\n",
    "    \n",
    "    webd.get(search_url)\n",
    "    \n",
    "    try:\n",
    "        boton_aceptar_todo=webd.find_element(By.CSS_SELECTOR,'button[id=\"L2AGLb\"]')\n",
    "        boton_aceptar_todo.click()\n",
    "        \n",
    "    except NoSuchElementException:\n",
    "        \n",
    "        pass"
   ]
  },
  {
   "cell_type": "markdown",
   "id": "4cfc0d80",
   "metadata": {},
   "source": [
    "The second function to be defined is the one in charge of opening Stack Overflow, which enters the web from Google. The first thing it does is to delete the word \"google\" from the search engine to search for \"Stack Overflow\" and click on the first link (the one that corresponds to the official website)."
   ]
  },
  {
   "cell_type": "code",
   "execution_count": 21,
   "id": "3b7669ae",
   "metadata": {},
   "outputs": [],
   "source": [
    "def abrir_stack():\n",
    "    \n",
    "    busqueda_google = webd.find_element(By.CSS_SELECTOR, 'textarea[role=\"combobox\"]')\n",
    "    \n",
    "    for _ in range(6):\n",
    "        busqueda_google.send_keys(Keys.BACK_SPACE)\n",
    "        time.sleep(random.uniform(0,0.7))\n",
    "    \n",
    "    busqueda_google.send_keys('Stack Overflow')\n",
    "    busqueda_google.send_keys(Keys.ENTER)\n",
    "    \n",
    "    #Abrir el primer link\n",
    "    primer_link = webd.find_element(By.CSS_SELECTOR,'a[href=\"https://stackoverflow.com/\"]')\n",
    "    primer_link.click()"
   ]
  },
  {
   "cell_type": "markdown",
   "id": "eb1d91c3",
   "metadata": {},
   "source": [
    "Once inside, a function is defined that accepts cookies from the website."
   ]
  },
  {
   "cell_type": "code",
   "execution_count": 22,
   "id": "0497ebd9",
   "metadata": {},
   "outputs": [],
   "source": [
    "def aceptar_cookies():\n",
    "    \n",
    "    try:\n",
    "        \n",
    "        WebDriverWait(webd,10).until(ec.visibility_of_element_located((By.CSS_SELECTOR,'button[id=\"onetrust-accept-btn-handler\"]')))\n",
    "        boton_aceptar = webd.find_element(By.CSS_SELECTOR,'button[id=\"onetrust-accept-btn-handler\"]')\n",
    "        \n",
    "        boton_aceptar.click()\n",
    "        \n",
    "    except (NoSuchElementException, TimeoutException) as ex:\n",
    "        \n",
    "        print(\"No se han podido aceptar las cookies: \",type(ex))\n",
    "        webd.quit()\n",
    "        "
   ]
  },
  {
   "cell_type": "markdown",
   "id": "d03cf70a",
   "metadata": {},
   "source": [
    "This \"print_final\" function will allow a clearer display of what is being requested. In addition to showing the best rated answer, it will also show the question it answers and let the user choose how many answers he/she would like to receive. In case of a number greater than 1, the order will remain as above, from a better rating to a worse one."
   ]
  },
  {
   "cell_type": "code",
   "execution_count": 23,
   "id": "15d56d52",
   "metadata": {},
   "outputs": [],
   "source": [
    "def print_final(textos, num_respuestas):\n",
    "    \n",
    "    pregunta=BeautifulSoup(str(textos[0].text),'html.parser')\n",
    "    print(f\"\\n{negrita}La pregunta realizada fue:{reset}\\n{pregunta}\\n\")\n",
    "    \n",
    "    for num in range(min(int(num_respuestas),len(textos))):\n",
    "                     \n",
    "        respuesta=BeautifulSoup(str(textos[int(num+1)].text),'html.parser')\n",
    "        print(f\"{negrita}La {num+1} respuesta mejor valorada fue:{reset}\\n{str(respuesta)}\\n\")"
   ]
  },
  {
   "cell_type": "markdown",
   "id": "639fc11a",
   "metadata": {},
   "source": [
    "Finally, the function get_SOS_help is defined, in which first click on the search bar to enter the value of the argument of the function, this error will give the user the option to enter it on the screen. \n",
    "\n",
    "If it is the first time that the user accesses the website, a CAPTCHA will appear. What has been achieved, to minimise human action is that the user only has to select the photos and click on \"Verify\", to know when to act, the message \"RESUELVE EL CAPTCHA MANUALMENTE\" will be displayed on the screen.\n",
    "\n",
    "Once inside, to sort the answers by rating, click on the \"more\" button and select score, now the answers are sorted from highest to lowest rating.\n",
    "\n",
    "Finally, both the question and the answers are stored, in case the user wants to obtain more than one, and the desired number is displayed on the screen."
   ]
  },
  {
   "cell_type": "code",
   "execution_count": 24,
   "id": "2002dc7b",
   "metadata": {},
   "outputs": [],
   "source": [
    "def get_SOS_help(error):\n",
    "    \n",
    "    time.sleep(random.uniform(0,3))\n",
    "    \n",
    "    boton_buscar=webd.find_element(By.CSS_SELECTOR,'input[role=\"combobox\"]')\n",
    "    boton_buscar.send_keys(str(error))\n",
    "    boton_buscar.send_keys(Keys.ENTER)\n",
    "    \n",
    "    time.sleep(random.uniform(0,3))\n",
    "    \n",
    "    try:\n",
    "        \n",
    "        iframe = webd.find_element(By.CSS_SELECTOR, 'iframe[title=\"reCAPTCHA\"]')\n",
    "        webd.switch_to.frame(iframe)\n",
    "        boton_capcha=webd.find_element(By.XPATH,'//*[@id=\"recaptcha-anchor\"]/div[1]').click()\n",
    "        webd.switch_to.default_content()\n",
    "        print(f\"\\n{negrita}RESUELVA EL CAPTCHA MANUALMENTE{reset}\\n\")\n",
    "        \n",
    "    except NoSuchElementException:\n",
    "        \n",
    "        pass\n",
    "    \n",
    "    \n",
    "    WebDriverWait(webd,10000).until(ec.visibility_of_element_located((By.XPATH,'//*[@id=\"mainbar\"]/div[4]/div[2]/div/nav/button')))\n",
    "    boton_more=webd.find_element(By.XPATH,'//*[@id=\"mainbar\"]/div[4]/div[2]/div/nav/button')\n",
    "    boton_more.click()\n",
    "    \n",
    "    time.sleep(1)\n",
    "\n",
    "    boton_score=webd.find_element(By.XPATH,'//*[@id=\"mainbar\"]/div[4]/div[2]/div/nav/ul/li[2]/a')\n",
    "    boton_score.click()\n",
    "    \n",
    "    time.sleep(random.uniform(0,3))\n",
    "    \n",
    "    solution = webd.find_elements(By.CSS_SELECTOR, \"a[data-searchsession]\")\n",
    "    solution[0].click()\n",
    "\n",
    "    time.sleep(random.uniform(1.5,2.5))\n",
    "    \n",
    "    num_respuestas=input(\"¿Cuántas respuestas quieres?: \")\n",
    "    \n",
    "    textos=webd.find_elements(By.CSS_SELECTOR, 'div[class=\"s-prose js-post-body\"]')\n",
    "    \n",
    "    print_final(textos,num_respuestas)\n",
    "    "
   ]
  },
  {
   "cell_type": "markdown",
   "id": "357b3c13",
   "metadata": {},
   "source": [
    "**Additional notes**:\n",
    "\n",
    "-All the times when using the function time.sleep it does not declare a fixed timeout but a random time between two values, this was thought so that the execution time between commands is not the same and it becomes more automatic but more like a \"human behaviour\" thinking that this way you could skip the CAPTCHA, which has not worked. \n",
    "\n",
    "-At the beginning of the project I got a strange error with Chrome so I had to download a specific version which is the one indicated in the \"executable_path\"."
   ]
  },
  {
   "cell_type": "code",
   "execution_count": null,
   "id": "67096c26",
   "metadata": {},
   "outputs": [],
   "source": [
    "service = Service(executable_path=r'C:\\Users\\pablo\\Desktop\\chromedriver-win32\\chromedriver-win32\\chromedriver.exe')\n",
    "options = webdriver.ChromeOptions()\n",
    "webd = webdriver.Chrome(service=service, options=options)\n",
    "\n",
    "abrir_google()\n",
    "abrir_stack()\n",
    "aceptar_cookies()\n",
    "\n",
    "error=input(\"Introduce el error que quieras buscar en Stack Overflow: \")\n",
    "#error que busco: Can't install time module\n",
    "get_SOS_help(error)"
   ]
  }
 ],
 "metadata": {
  "kernelspec": {
   "display_name": "Python 3 (ipykernel)",
   "language": "python",
   "name": "python3"
  },
  "language_info": {
   "codemirror_mode": {
    "name": "ipython",
    "version": 3
   },
   "file_extension": ".py",
   "mimetype": "text/x-python",
   "name": "python",
   "nbconvert_exporter": "python",
   "pygments_lexer": "ipython3",
   "version": "3.9.18"
  }
 },
 "nbformat": 4,
 "nbformat_minor": 5
}
